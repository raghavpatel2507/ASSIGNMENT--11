{
 "cells": [
  {
   "cell_type": "code",
   "execution_count": 1,
   "id": "35f5d667",
   "metadata": {},
   "outputs": [],
   "source": [
    "#Q-1\n",
    "class vehical:\n",
    "    def __init__(self, name_of_vehicle,max_speed,average_of_vehicle):\n",
    "        self.name_of_vehicle=name_of_vehicle\n",
    "        self.max_speed=max_speed\n",
    "        self.average_of_vehicle=average_of_vehicle\n",
    "        \n",
    "    def returndeatails(self):\n",
    "        return self.name_of_vehicle,self.max_speed,self.average_of_vehicle\n",
    "    "
   ]
  },
  {
   "cell_type": "code",
   "execution_count": 4,
   "id": "36284d4c",
   "metadata": {},
   "outputs": [],
   "source": [
    "a=vehical('bmw',125,17)"
   ]
  },
  {
   "cell_type": "code",
   "execution_count": 6,
   "id": "97e83824",
   "metadata": {},
   "outputs": [
    {
     "data": {
      "text/plain": [
       "('bmw', 125, 17)"
      ]
     },
     "execution_count": 6,
     "metadata": {},
     "output_type": "execute_result"
    }
   ],
   "source": [
    "a.returndeatails()"
   ]
  },
  {
   "cell_type": "code",
   "execution_count": 7,
   "id": "dcaeec45",
   "metadata": {},
   "outputs": [],
   "source": [
    "# Q-2\n",
    "class car(vehical):\n",
    "    def seating_capacity(self,capisity):\n",
    "        self.capisity=capisity\n",
    "        \n",
    "    def returncardeatails(self):\n",
    "        return self.name_of_vehicle,self.capisity\n"
   ]
  },
  {
   "cell_type": "code",
   "execution_count": 9,
   "id": "acadda27",
   "metadata": {},
   "outputs": [],
   "source": [
    "b=car('bmw',150,17)"
   ]
  },
  {
   "cell_type": "code",
   "execution_count": 10,
   "id": "0a32da79",
   "metadata": {},
   "outputs": [],
   "source": [
    "b.seating_capacity(170)"
   ]
  },
  {
   "cell_type": "code",
   "execution_count": 11,
   "id": "60594d65",
   "metadata": {},
   "outputs": [
    {
     "data": {
      "text/plain": [
       "('bmw', 170)"
      ]
     },
     "execution_count": 11,
     "metadata": {},
     "output_type": "execute_result"
    }
   ],
   "source": [
    "b.returncardeatails()"
   ]
  },
  {
   "cell_type": "code",
   "execution_count": 12,
   "id": "dd3c96a2",
   "metadata": {},
   "outputs": [],
   "source": [
    "# Q-3\n",
    "#When a class is derived from more than one base class it is called multiple Inheritance\n",
    "class A:\n",
    "    def print1(self):\n",
    "        return 'this is a A class'\n",
    "    \n",
    "class B:\n",
    "    def print2(self):\n",
    "        return 'this is a B class'\n",
    "class C(A,B):\n",
    "    pass\n",
    "    "
   ]
  },
  {
   "cell_type": "code",
   "execution_count": 13,
   "id": "002b135c",
   "metadata": {},
   "outputs": [],
   "source": [
    "a=C()"
   ]
  },
  {
   "cell_type": "code",
   "execution_count": 14,
   "id": "45c65d46",
   "metadata": {},
   "outputs": [
    {
     "data": {
      "text/plain": [
       "'this is a B class'"
      ]
     },
     "execution_count": 14,
     "metadata": {},
     "output_type": "execute_result"
    }
   ],
   "source": [
    "a.print2()"
   ]
  },
  {
   "cell_type": "code",
   "execution_count": 15,
   "id": "1254572e",
   "metadata": {},
   "outputs": [
    {
     "data": {
      "text/plain": [
       "'this is a A class'"
      ]
     },
     "execution_count": 15,
     "metadata": {},
     "output_type": "execute_result"
    }
   ],
   "source": [
    "a.print1()"
   ]
  },
  {
   "cell_type": "code",
   "execution_count": 16,
   "id": "25054d04",
   "metadata": {},
   "outputs": [],
   "source": [
    "#Q-4\n",
    "#In Python, getters and setters are not the same as those in other object-oriented programming languages. Basically, the main purpose of using getters and setters in object-oriented programs is to ensure data encapsulation\n",
    "class D:\n",
    "    def __init__(self,age=0):\n",
    "        self.age=age\n",
    "    def setter(self,x):\n",
    "        self.age=x\n",
    "    def getter(self):\n",
    "        return self.age"
   ]
  },
  {
   "cell_type": "code",
   "execution_count": 17,
   "id": "ee73dfe9",
   "metadata": {},
   "outputs": [],
   "source": [
    "b=D()"
   ]
  },
  {
   "cell_type": "code",
   "execution_count": 18,
   "id": "b988cd65",
   "metadata": {},
   "outputs": [],
   "source": [
    "b.setter(45)"
   ]
  },
  {
   "cell_type": "code",
   "execution_count": 19,
   "id": "72c87498",
   "metadata": {},
   "outputs": [
    {
     "data": {
      "text/plain": [
       "45"
      ]
     },
     "execution_count": 19,
     "metadata": {},
     "output_type": "execute_result"
    }
   ],
   "source": [
    "b.getter()"
   ]
  },
  {
   "cell_type": "code",
   "execution_count": 20,
   "id": "53016bef",
   "metadata": {},
   "outputs": [],
   "source": [
    "#Q-5\n",
    "#When a method in a subclass has the same name, same parameters or signature and same return type(or sub-type) as a method in its super-class, then the method in the subclass is said to override the method in the super-class.\n",
    "class Animal:\n",
    "    def __init__(self):\n",
    "        self.value='this class animal'\n",
    "    def show(self):\n",
    "        return self.value\n",
    "class dog(Animal) :\n",
    "    def __init__(self):\n",
    "        self.value='this class dog'\n",
    "    def show(self):\n",
    "        return self.value    "
   ]
  },
  {
   "cell_type": "code",
   "execution_count": 22,
   "id": "c45244d2",
   "metadata": {},
   "outputs": [],
   "source": [
    "d=dog()\n",
    "A=Animal()"
   ]
  },
  {
   "cell_type": "code",
   "execution_count": 23,
   "id": "57fa26ef",
   "metadata": {},
   "outputs": [
    {
     "data": {
      "text/plain": [
       "'this class dog'"
      ]
     },
     "execution_count": 23,
     "metadata": {},
     "output_type": "execute_result"
    }
   ],
   "source": [
    "d.show()"
   ]
  },
  {
   "cell_type": "code",
   "execution_count": 24,
   "id": "a69c9ba2",
   "metadata": {},
   "outputs": [
    {
     "data": {
      "text/plain": [
       "'this class animal'"
      ]
     },
     "execution_count": 24,
     "metadata": {},
     "output_type": "execute_result"
    }
   ],
   "source": [
    "A.show()"
   ]
  },
  {
   "cell_type": "code",
   "execution_count": null,
   "id": "c14f74b8",
   "metadata": {},
   "outputs": [],
   "source": []
  }
 ],
 "metadata": {
  "kernelspec": {
   "display_name": "Python 3 (ipykernel)",
   "language": "python",
   "name": "python3"
  },
  "language_info": {
   "codemirror_mode": {
    "name": "ipython",
    "version": 3
   },
   "file_extension": ".py",
   "mimetype": "text/x-python",
   "name": "python",
   "nbconvert_exporter": "python",
   "pygments_lexer": "ipython3",
   "version": "3.9.13"
  }
 },
 "nbformat": 4,
 "nbformat_minor": 5
}
